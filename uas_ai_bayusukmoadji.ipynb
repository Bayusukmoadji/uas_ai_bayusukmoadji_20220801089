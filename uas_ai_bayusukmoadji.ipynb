{
  "nbformat": 4,
  "nbformat_minor": 0,
  "metadata": {
    "colab": {
      "provenance": []
    },
    "kernelspec": {
      "name": "python3",
      "display_name": "Python 3"
    },
    "language_info": {
      "name": "python"
    }
  },
  "cells": [
    {
      "cell_type": "markdown",
      "source": [
        "# **UAS AI BAYU SUKMO ADJI - 20220801089**"
      ],
      "metadata": {
        "id": "5BFPeJpQcC_S"
      }
    },
    {
      "cell_type": "markdown",
      "source": [
        "# **upload dataset yang telah di download**"
      ],
      "metadata": {
        "id": "sbEgSBRpbjCX"
      }
    },
    {
      "cell_type": "code",
      "execution_count": 1,
      "metadata": {
        "colab": {
          "base_uri": "https://localhost:8080/",
          "height": 76
        },
        "id": "djWgQyP6ZvY1",
        "outputId": "680e7c6f-b4d9-4572-88f1-0cc7e52e3418"
      },
      "outputs": [
        {
          "output_type": "display_data",
          "data": {
            "text/plain": [
              "<IPython.core.display.HTML object>"
            ],
            "text/html": [
              "\n",
              "     <input type=\"file\" id=\"files-8da16577-baf4-4a9a-a66a-f9d80bd8d0e4\" name=\"files[]\" multiple disabled\n",
              "        style=\"border:none\" />\n",
              "     <output id=\"result-8da16577-baf4-4a9a-a66a-f9d80bd8d0e4\">\n",
              "      Upload widget is only available when the cell has been executed in the\n",
              "      current browser session. Please rerun this cell to enable.\n",
              "      </output>\n",
              "      <script>// Copyright 2017 Google LLC\n",
              "//\n",
              "// Licensed under the Apache License, Version 2.0 (the \"License\");\n",
              "// you may not use this file except in compliance with the License.\n",
              "// You may obtain a copy of the License at\n",
              "//\n",
              "//      http://www.apache.org/licenses/LICENSE-2.0\n",
              "//\n",
              "// Unless required by applicable law or agreed to in writing, software\n",
              "// distributed under the License is distributed on an \"AS IS\" BASIS,\n",
              "// WITHOUT WARRANTIES OR CONDITIONS OF ANY KIND, either express or implied.\n",
              "// See the License for the specific language governing permissions and\n",
              "// limitations under the License.\n",
              "\n",
              "/**\n",
              " * @fileoverview Helpers for google.colab Python module.\n",
              " */\n",
              "(function(scope) {\n",
              "function span(text, styleAttributes = {}) {\n",
              "  const element = document.createElement('span');\n",
              "  element.textContent = text;\n",
              "  for (const key of Object.keys(styleAttributes)) {\n",
              "    element.style[key] = styleAttributes[key];\n",
              "  }\n",
              "  return element;\n",
              "}\n",
              "\n",
              "// Max number of bytes which will be uploaded at a time.\n",
              "const MAX_PAYLOAD_SIZE = 100 * 1024;\n",
              "\n",
              "function _uploadFiles(inputId, outputId) {\n",
              "  const steps = uploadFilesStep(inputId, outputId);\n",
              "  const outputElement = document.getElementById(outputId);\n",
              "  // Cache steps on the outputElement to make it available for the next call\n",
              "  // to uploadFilesContinue from Python.\n",
              "  outputElement.steps = steps;\n",
              "\n",
              "  return _uploadFilesContinue(outputId);\n",
              "}\n",
              "\n",
              "// This is roughly an async generator (not supported in the browser yet),\n",
              "// where there are multiple asynchronous steps and the Python side is going\n",
              "// to poll for completion of each step.\n",
              "// This uses a Promise to block the python side on completion of each step,\n",
              "// then passes the result of the previous step as the input to the next step.\n",
              "function _uploadFilesContinue(outputId) {\n",
              "  const outputElement = document.getElementById(outputId);\n",
              "  const steps = outputElement.steps;\n",
              "\n",
              "  const next = steps.next(outputElement.lastPromiseValue);\n",
              "  return Promise.resolve(next.value.promise).then((value) => {\n",
              "    // Cache the last promise value to make it available to the next\n",
              "    // step of the generator.\n",
              "    outputElement.lastPromiseValue = value;\n",
              "    return next.value.response;\n",
              "  });\n",
              "}\n",
              "\n",
              "/**\n",
              " * Generator function which is called between each async step of the upload\n",
              " * process.\n",
              " * @param {string} inputId Element ID of the input file picker element.\n",
              " * @param {string} outputId Element ID of the output display.\n",
              " * @return {!Iterable<!Object>} Iterable of next steps.\n",
              " */\n",
              "function* uploadFilesStep(inputId, outputId) {\n",
              "  const inputElement = document.getElementById(inputId);\n",
              "  inputElement.disabled = false;\n",
              "\n",
              "  const outputElement = document.getElementById(outputId);\n",
              "  outputElement.innerHTML = '';\n",
              "\n",
              "  const pickedPromise = new Promise((resolve) => {\n",
              "    inputElement.addEventListener('change', (e) => {\n",
              "      resolve(e.target.files);\n",
              "    });\n",
              "  });\n",
              "\n",
              "  const cancel = document.createElement('button');\n",
              "  inputElement.parentElement.appendChild(cancel);\n",
              "  cancel.textContent = 'Cancel upload';\n",
              "  const cancelPromise = new Promise((resolve) => {\n",
              "    cancel.onclick = () => {\n",
              "      resolve(null);\n",
              "    };\n",
              "  });\n",
              "\n",
              "  // Wait for the user to pick the files.\n",
              "  const files = yield {\n",
              "    promise: Promise.race([pickedPromise, cancelPromise]),\n",
              "    response: {\n",
              "      action: 'starting',\n",
              "    }\n",
              "  };\n",
              "\n",
              "  cancel.remove();\n",
              "\n",
              "  // Disable the input element since further picks are not allowed.\n",
              "  inputElement.disabled = true;\n",
              "\n",
              "  if (!files) {\n",
              "    return {\n",
              "      response: {\n",
              "        action: 'complete',\n",
              "      }\n",
              "    };\n",
              "  }\n",
              "\n",
              "  for (const file of files) {\n",
              "    const li = document.createElement('li');\n",
              "    li.append(span(file.name, {fontWeight: 'bold'}));\n",
              "    li.append(span(\n",
              "        `(${file.type || 'n/a'}) - ${file.size} bytes, ` +\n",
              "        `last modified: ${\n",
              "            file.lastModifiedDate ? file.lastModifiedDate.toLocaleDateString() :\n",
              "                                    'n/a'} - `));\n",
              "    const percent = span('0% done');\n",
              "    li.appendChild(percent);\n",
              "\n",
              "    outputElement.appendChild(li);\n",
              "\n",
              "    const fileDataPromise = new Promise((resolve) => {\n",
              "      const reader = new FileReader();\n",
              "      reader.onload = (e) => {\n",
              "        resolve(e.target.result);\n",
              "      };\n",
              "      reader.readAsArrayBuffer(file);\n",
              "    });\n",
              "    // Wait for the data to be ready.\n",
              "    let fileData = yield {\n",
              "      promise: fileDataPromise,\n",
              "      response: {\n",
              "        action: 'continue',\n",
              "      }\n",
              "    };\n",
              "\n",
              "    // Use a chunked sending to avoid message size limits. See b/62115660.\n",
              "    let position = 0;\n",
              "    do {\n",
              "      const length = Math.min(fileData.byteLength - position, MAX_PAYLOAD_SIZE);\n",
              "      const chunk = new Uint8Array(fileData, position, length);\n",
              "      position += length;\n",
              "\n",
              "      const base64 = btoa(String.fromCharCode.apply(null, chunk));\n",
              "      yield {\n",
              "        response: {\n",
              "          action: 'append',\n",
              "          file: file.name,\n",
              "          data: base64,\n",
              "        },\n",
              "      };\n",
              "\n",
              "      let percentDone = fileData.byteLength === 0 ?\n",
              "          100 :\n",
              "          Math.round((position / fileData.byteLength) * 100);\n",
              "      percent.textContent = `${percentDone}% done`;\n",
              "\n",
              "    } while (position < fileData.byteLength);\n",
              "  }\n",
              "\n",
              "  // All done.\n",
              "  yield {\n",
              "    response: {\n",
              "      action: 'complete',\n",
              "    }\n",
              "  };\n",
              "}\n",
              "\n",
              "scope.google = scope.google || {};\n",
              "scope.google.colab = scope.google.colab || {};\n",
              "scope.google.colab._files = {\n",
              "  _uploadFiles,\n",
              "  _uploadFilesContinue,\n",
              "};\n",
              "})(self);\n",
              "</script> "
            ]
          },
          "metadata": {}
        },
        {
          "output_type": "stream",
          "name": "stdout",
          "text": [
            "Saving netflix_titles.csv to netflix_titles.csv\n"
          ]
        }
      ],
      "source": [
        "from google.colab import files\n",
        "\n",
        "# Upload file\n",
        "uploaded = files.upload()\n"
      ]
    },
    {
      "cell_type": "markdown",
      "source": [
        "# **1. Cek Apakah Datset Sudah Terbaca Dengan Benar**\n"
      ],
      "metadata": {
        "id": "9XwsHosobVZ4"
      }
    },
    {
      "cell_type": "code",
      "source": [
        "import pandas as pd\n",
        "\n",
        "# Baca ulang dataset dari awal\n",
        "df = pd.read_csv(\"netflix_titles.csv\")\n",
        "\n",
        "# Cek apakah data terbaca dengan baik\n",
        "print(df.head())  # Tampilkan 5 baris pertama\n",
        "print(df.info())  # Cek apakah ada kolom yang masih memiliki NaN\n"
      ],
      "metadata": {
        "colab": {
          "base_uri": "https://localhost:8080/"
        },
        "id": "s83QUK6abC9W",
        "outputId": "da14ca33-7186-4a65-fe00-b95163c745cf"
      },
      "execution_count": 24,
      "outputs": [
        {
          "output_type": "stream",
          "name": "stdout",
          "text": [
            "  show_id     type                  title         director  \\\n",
            "0      s1    Movie   Dick Johnson Is Dead  Kirsten Johnson   \n",
            "1      s2  TV Show          Blood & Water              NaN   \n",
            "2      s3  TV Show              Ganglands  Julien Leclercq   \n",
            "3      s4  TV Show  Jailbirds New Orleans              NaN   \n",
            "4      s5  TV Show           Kota Factory              NaN   \n",
            "\n",
            "                                                cast        country  \\\n",
            "0                                                NaN  United States   \n",
            "1  Ama Qamata, Khosi Ngema, Gail Mabalane, Thaban...   South Africa   \n",
            "2  Sami Bouajila, Tracy Gotoas, Samuel Jouy, Nabi...            NaN   \n",
            "3                                                NaN            NaN   \n",
            "4  Mayur More, Jitendra Kumar, Ranjan Raj, Alam K...          India   \n",
            "\n",
            "           date_added  release_year rating   duration  \\\n",
            "0  September 25, 2021          2020  PG-13     90 min   \n",
            "1  September 24, 2021          2021  TV-MA  2 Seasons   \n",
            "2  September 24, 2021          2021  TV-MA   1 Season   \n",
            "3  September 24, 2021          2021  TV-MA   1 Season   \n",
            "4  September 24, 2021          2021  TV-MA  2 Seasons   \n",
            "\n",
            "                                           listed_in  \\\n",
            "0                                      Documentaries   \n",
            "1    International TV Shows, TV Dramas, TV Mysteries   \n",
            "2  Crime TV Shows, International TV Shows, TV Act...   \n",
            "3                             Docuseries, Reality TV   \n",
            "4  International TV Shows, Romantic TV Shows, TV ...   \n",
            "\n",
            "                                         description  \n",
            "0  As her father nears the end of his life, filmm...  \n",
            "1  After crossing paths at a party, a Cape Town t...  \n",
            "2  To protect his family from a powerful drug lor...  \n",
            "3  Feuds, flirtations and toilet talk go down amo...  \n",
            "4  In a city of coaching centers known to train I...  \n",
            "<class 'pandas.core.frame.DataFrame'>\n",
            "RangeIndex: 8807 entries, 0 to 8806\n",
            "Data columns (total 12 columns):\n",
            " #   Column        Non-Null Count  Dtype \n",
            "---  ------        --------------  ----- \n",
            " 0   show_id       8807 non-null   object\n",
            " 1   type          8807 non-null   object\n",
            " 2   title         8807 non-null   object\n",
            " 3   director      6173 non-null   object\n",
            " 4   cast          7982 non-null   object\n",
            " 5   country       7976 non-null   object\n",
            " 6   date_added    8797 non-null   object\n",
            " 7   release_year  8807 non-null   int64 \n",
            " 8   rating        8803 non-null   object\n",
            " 9   duration      8804 non-null   object\n",
            " 10  listed_in     8807 non-null   object\n",
            " 11  description   8807 non-null   object\n",
            "dtypes: int64(1), object(11)\n",
            "memory usage: 825.8+ KB\n",
            "None\n"
          ]
        }
      ]
    },
    {
      "cell_type": "markdown",
      "source": [
        "# **2. Lakukan Preprocessing Data**"
      ],
      "metadata": {
        "id": "APf3ZozAcl9h"
      }
    },
    {
      "cell_type": "code",
      "source": [
        "# Ubah format duration menjadi angka\n",
        "def convert_duration(duration):\n",
        "    if isinstance(duration, str):  # Pastikan data adalah string\n",
        "        if 'Season' in duration:\n",
        "            return int(duration.split()[0]) * 60  # Asumsi: 1 season = 60 menit\n",
        "        elif 'min' in duration:\n",
        "            return int(duration.replace(' min', ''))  # Hapus ' min' dan ubah ke angka\n",
        "    return None  # Jika format tidak cocok, buat NaN\n",
        "\n",
        "df['duration'] = df['duration'].apply(convert_duration)\n",
        "\n",
        "# Hapus baris yang gagal dikonversi\n",
        "df = df.dropna(subset=['duration'])\n",
        "\n",
        "# Cek apakah konversi berhasil\n",
        "print(df[['release_year', 'duration']].head())\n"
      ],
      "metadata": {
        "colab": {
          "base_uri": "https://localhost:8080/"
        },
        "id": "AGw9zNYScsjr",
        "outputId": "c544100e-74b9-43ef-d386-6d31611c2c5a"
      },
      "execution_count": 25,
      "outputs": [
        {
          "output_type": "stream",
          "name": "stdout",
          "text": [
            "   release_year  duration\n",
            "0          2020      90.0\n",
            "1          2021     120.0\n",
            "2          2021      60.0\n",
            "3          2021      60.0\n",
            "4          2021     120.0\n"
          ]
        }
      ]
    },
    {
      "cell_type": "markdown",
      "source": [
        "# **3. Normalisasi Data (Gunakan MinMaxScaler)**"
      ],
      "metadata": {
        "id": "EKDHZpK3gjz8"
      }
    },
    {
      "cell_type": "code",
      "source": [
        "from sklearn.preprocessing import MinMaxScaler\n",
        "\n",
        "# Normalisasi data agar lebih baik untuk clustering\n",
        "scaler = MinMaxScaler()\n",
        "df_scaled = scaler.fit_transform(df[['release_year', 'duration']])\n",
        "\n",
        "# Ubah kembali ke DataFrame\n",
        "df_scaled = pd.DataFrame(df_scaled, columns=['release_year', 'duration'])\n",
        "\n",
        "# Cek apakah normalisasi berhasil\n",
        "print(df_scaled.head())\n"
      ],
      "metadata": {
        "colab": {
          "base_uri": "https://localhost:8080/"
        },
        "id": "LMreaTzVfGHp",
        "outputId": "74b81579-a4bf-4c13-e390-b8cb5ae2ddc1"
      },
      "execution_count": 26,
      "outputs": [
        {
          "output_type": "stream",
          "name": "stdout",
          "text": [
            "   release_year  duration\n",
            "0      0.989583  0.085546\n",
            "1      1.000000  0.115044\n",
            "2      1.000000  0.056047\n",
            "3      1.000000  0.056047\n",
            "4      1.000000  0.115044\n"
          ]
        }
      ]
    },
    {
      "cell_type": "markdown",
      "source": [
        "# **4. K-Means Clustering**"
      ],
      "metadata": {
        "id": "VNr-ovcTmcps"
      }
    },
    {
      "cell_type": "code",
      "source": [
        "from sklearn.cluster import KMeans\n",
        "\n",
        "# Periksa apakah df_scaled memiliki cukup variasi\n",
        "import numpy as np\n",
        "print(\"Standard deviation of scaled data:\", np.std(df_scaled, axis=0))\n",
        "\n",
        "# Tentukan jumlah cluster optimal (misalnya 3)\n",
        "optimal_k = 3\n",
        "\n",
        "# Jalankan K-Means dengan parameter yang lebih baik\n",
        "kmeans = KMeans(n_clusters=optimal_k, random_state=None, n_init=20, max_iter=300)\n",
        "df['cluster'] = kmeans.fit_predict(df_scaled)  # Pastikan df_scaled yang dipakai!\n",
        "\n",
        "# Tampilkan hasil clustering\n",
        "print(df[['release_year', 'duration', 'cluster']].head())\n",
        "\n",
        "# Periksa apakah ada lebih dari 1 cluster\n",
        "print(\"Jumlah unik cluster:\", df['cluster'].nunique())\n"
      ],
      "metadata": {
        "colab": {
          "base_uri": "https://localhost:8080/"
        },
        "id": "l6nsfUaLhHLa",
        "outputId": "9282e60d-8d3b-4c97-ce8f-63c55f853a75"
      },
      "execution_count": 30,
      "outputs": [
        {
          "output_type": "stream",
          "name": "stdout",
          "text": [
            "Standard deviation of scaled data: release_year    0.091877\n",
            "duration        0.056533\n",
            "dtype: float64\n",
            "   release_year  duration  cluster\n",
            "0          2020      90.0        2\n",
            "1          2021     120.0        2\n",
            "2          2021      60.0        2\n",
            "3          2021      60.0        2\n",
            "4          2021     120.0        2\n",
            "Jumlah unik cluster: 3\n"
          ]
        }
      ]
    },
    {
      "cell_type": "markdown",
      "source": [
        "# **5. Visualisasi Clustering**"
      ],
      "metadata": {
        "id": "6USVSk3kmrog"
      }
    },
    {
      "cell_type": "code",
      "source": [
        "import matplotlib.pyplot as plt\n",
        "import seaborn as sns\n",
        "\n",
        "plt.figure(figsize=(8,6))\n",
        "sns.scatterplot(x=df['release_year'], y=df['duration'], hue=df['cluster'], palette='viridis')\n",
        "plt.xlabel('Release Year')\n",
        "plt.ylabel('Duration')\n",
        "plt.title('Clustering of Netflix Movies & TV Shows')\n",
        "plt.show()\n"
      ],
      "metadata": {
        "colab": {
          "base_uri": "https://localhost:8080/",
          "height": 564
        },
        "id": "nK6B4YJciSqe",
        "outputId": "0568bcd7-eaba-4c23-c344-cc675703a548"
      },
      "execution_count": 31,
      "outputs": [
        {
          "output_type": "display_data",
          "data": {
            "text/plain": [
              "<Figure size 800x600 with 1 Axes>"
            ],
            "image/png": "[encoded data removed]"
          },
          "metadata": {}
        }
      ]
    },
    {
      "cell_type": "markdown",
      "source": [
        "# **6. Penggabungan dengan Machine Learning**"
      ],
      "metadata": {
        "id": "JulO5cLzqcva"
      }
    },
    {
      "cell_type": "code",
      "source": [
        "from sklearn.preprocessing import StandardScaler\n",
        "from sklearn.model_selection import train_test_split\n",
        "from sklearn.linear_model import LogisticRegression\n",
        "from sklearn.metrics import accuracy_score\n",
        "\n",
        "# Gunakan release_year, duration, dan cluster sebagai fitur\n",
        "X = df[['release_year', 'duration', 'cluster']]\n",
        "y = df['cluster']  # Target prediksi adalah cluster\n",
        "\n",
        "# **Gunakan StandardScaler untuk stabilisasi model**\n",
        "scaler = StandardScaler()\n",
        "X_scaled = scaler.fit_transform(X)\n",
        "\n",
        "# Bagi dataset menjadi training (80%) dan testing (20%) dengan stratifikasi\n",
        "X_train, X_test, y_train, y_test = train_test_split(X_scaled, y, test_size=0.2, random_state=42, stratify=y)\n",
        "\n",
        "# Perbaikan Logistic Regression dengan solver 'liblinear' dan max_iter lebih tinggi\n",
        "model = LogisticRegression(max_iter=1000, solver='liblinear')\n",
        "model.fit(X_train, y_train)\n",
        "\n",
        "# Prediksi hasil\n",
        "y_pred = model.predict(X_test)\n",
        "\n",
        "# Evaluasi model dengan accuracy score\n",
        "accuracy = accuracy_score(y_test, y_pred)\n",
        "print(f\"Akurasi Model: {accuracy:.4f}\")\n"
      ],
      "metadata": {
        "colab": {
          "base_uri": "https://localhost:8080/"
        },
        "id": "whXHmjlZqjk_",
        "outputId": "04a6e9bd-ca6e-40d1-9b81-bfe4548b701a"
      },
      "execution_count": 35,
      "outputs": [
        {
          "output_type": "stream",
          "name": "stdout",
          "text": [
            "Akurasi Model Setelah Perbaikan: 0.9994\n"
          ]
        }
      ]
    },
    {
      "cell_type": "markdown",
      "source": [
        "# **7. Evaluasi dan Pengoptimalan Model**"
      ],
      "metadata": {
        "id": "oavKOTFRrkii"
      }
    },
    {
      "cell_type": "code",
      "source": [
        "from sklearn.metrics import silhouette_score, confusion_matrix, classification_report\n",
        "\n",
        "# **1. Evaluasi Clustering dengan Silhouette Score**\n",
        "silhouette_avg = silhouette_score(X_scaled, df['cluster'])\n",
        "print(f\"Silhouette Score: {silhouette_avg:.4f}\")\n",
        "\n",
        "# **2. Evaluasi Model dengan Confusion Matrix & Classification Report**\n",
        "print(\"\\nConfusion Matrix:\")\n",
        "print(confusion_matrix(y_test, y_pred))\n",
        "\n",
        "print(\"\\nClassification Report:\")\n",
        "print(classification_report(y_test, y_pred))\n",
        "\n",
        "# **3. Bandingkan dengan Model Tanpa Clustering**\n",
        "X_no_cluster = df[['release_year', 'duration']]  # Model tanpa cluster sebagai fitur\n",
        "X_no_cluster_scaled = scaler.fit_transform(X_no_cluster)\n",
        "\n",
        "X_train_no, X_test_no, y_train_no, y_test_no = train_test_split(\n",
        "    X_no_cluster_scaled, y, test_size=0.2, random_state=42, stratify=y\n",
        ")\n",
        "\n",
        "model_no_cluster = LogisticRegression(max_iter=1000, solver='liblinear')\n",
        "model_no_cluster.fit(X_train_no, y_train_no)\n",
        "y_pred_no_cluster = model_no_cluster.predict(X_test_no)\n",
        "\n",
        "# **Evaluasi Model Tanpa Clustering**\n",
        "accuracy_no_cluster = accuracy_score(y_test_no, y_pred_no_cluster)\n",
        "print(f\"\\nAkurasi Model Tanpa Clustering: {accuracy_no_cluster:.4f}\")\n"
      ],
      "metadata": {
        "colab": {
          "base_uri": "https://localhost:8080/"
        },
        "id": "7gjeM-gUrpwf",
        "outputId": "bccd98e0-e9fd-44bf-a318-385c000cf43a"
      },
      "execution_count": 36,
      "outputs": [
        {
          "output_type": "stream",
          "name": "stdout",
          "text": [
            "Silhouette Score: 0.7651\n",
            "\n",
            "Confusion Matrix:\n",
            "[[  50    1    0]\n",
            " [   0  130    0]\n",
            " [   0    0 1580]]\n",
            "\n",
            "Classification Report:\n",
            "              precision    recall  f1-score   support\n",
            "\n",
            "           0       1.00      0.98      0.99        51\n",
            "           1       0.99      1.00      1.00       130\n",
            "           2       1.00      1.00      1.00      1580\n",
            "\n",
            "    accuracy                           1.00      1761\n",
            "   macro avg       1.00      0.99      1.00      1761\n",
            "weighted avg       1.00      1.00      1.00      1761\n",
            "\n",
            "\n",
            "Akurasi Model Tanpa Clustering: 0.9938\n"
          ]
        }
      ]
    },
    {
      "cell_type": "markdown",
      "source": [
        "**Kesimpulan UAS AI: Clustering dan Machine Learning pada Netflix Dataset**\n",
        "\n",
        "**Bayu Sukmo Adji - 20220801089**\n",
        "\n",
        "**1. Preprocessing Data**\n",
        "\n",
        "Dataset berhasil dibaca dan diproses dengan baik.\n",
        "Kolom duration yang awalnya berbentuk string (misal \"90 min\" atau \"2 Seasons\") telah dikonversi menjadi angka untuk bisa diproses lebih lanjut.Data telah dinormalisasi dengan MinMaxScaler() agar memiliki skala yang seragam sebelum dilakukan clustering.\n",
        "\n",
        "**2. Clustering dengan K-Means**\n",
        "\n",
        "Jumlah optimal cluster yang digunakan adalah 3, berdasarkan analisis awal dengan Elbow Method.\n",
        "Hasil clustering menunjukkan bahwa data berhasil dibagi ke dalam 3 kelompok utama berdasarkan release_year dan duration. Visualisasi dengan scatterplot menunjukkan distribusi cluster yang jelas, dengan warna yang berbeda untuk setiap cluster.\n",
        "\n",
        "Interpretasi Cluster:\n",
        "\n",
        "    Cluster 0: Film dengan durasi lebih panjang (mungkin film dokumenter atau series dengan banyak episode).\n",
        "    Cluster 1: Film-film dengan durasi standar dan rilis sebelum 2000-an.\n",
        "    Cluster 2: Film & TV show terbaru dengan durasi lebih pendek, menyesuaikan tren konsumsi modern.\n",
        "\n",
        "**3. Penggunaan Clustering dalam Machine Learning**\n",
        "\n",
        "Model Machine Learning menggunakan Logistic Regression berhasil dilatih dengan fitur release_year, duration, dan cluster.\n",
        "StandardScaler digunakan untuk meningkatkan stabilitas model dan mencegah overfitting.\n",
        "Akurasi Model dengan Clustering: 99.94% (Sangat tinggi, menunjukkan model sangat akurat).\n",
        "Akurasi Model Tanpa Clustering: 99.38% (Masih tinggi, tetapi sedikit lebih rendah dibandingkan model dengan clustering).\n",
        "\n",
        "Kesimpulan:\n",
        "\n",
        "    Clustering membantu meningkatkan akurasi model.\n",
        "    Fitur cluster memberikan informasi tambahan yang membantu model memahami pola dalam dataset Netflix.\n",
        "\n",
        "**4. Evaluasi dan Pengoptimalan Model**\n",
        "\n",
        "Silhouette Score: 0.7651 → Menunjukkan bahwa clustering cukup baik dan setiap cluster memiliki batasan yang jelas.\n",
        "Confusion Matrix menunjukkan bahwa hampir semua prediksi benar.\n",
        "Classification Report menghasilkan Precision, Recall, dan F1-Score yang sangat tinggi (hampir 100%).\n",
        "\n",
        "Kesimpulan:\n",
        "\n",
        "    Model mampu mengklasifikasikan data dengan sangat akurat.\n",
        "    Clustering membantu dalam meningkatkan performa model dibandingkan model yang tidak menggunakan clustering.\n",
        "    Tidak ada masalah overfitting setelah perbaikan (max_iter=1000, solver='liblinear', dan StandardScaler).\n",
        "\n",
        "Kesimpulan Akhir\n",
        "\n",
        "    K-Means berhasil digunakan untuk mengelompokkan film berdasarkan tahun rilis dan durasi.\n",
        "    Clustering meningkatkan kinerja model Machine Learning, terbukti dari perbandingan akurasi dengan dan tanpa clustering.\n",
        "    Silhouette Score 0.7651 menunjukkan clustering cukup baik dan tidak terlalu tumpang tindih.\n",
        "    Akurasi model mencapai 99.94%, menunjukkan bahwa prediksi yang dibuat sangat akurat.\n",
        "    Hasil ini bisa membantu dalam sistem rekomendasi film Netflix berdasarkan pola durasi dan tahun rilis."
      ],
      "metadata": {
        "id": "sO08SPjZsv0R"
      }
    }
  ]
}